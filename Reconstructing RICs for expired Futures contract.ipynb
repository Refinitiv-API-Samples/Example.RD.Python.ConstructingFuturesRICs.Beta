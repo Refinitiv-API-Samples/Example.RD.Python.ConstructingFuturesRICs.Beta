{
 "cells": [
  {
   "cell_type": "markdown",
   "id": "d8660912-3385-4531-88f1-9ccd13398781",
   "metadata": {},
   "source": [
    "# Reconstructing RICs for expired futures contracts"
   ]
  },
  {
   "cell_type": "markdown",
   "id": "6f068d0e-e399-49fc-8d6f-3752e087de9c",
   "metadata": {},
   "source": [
    "## Overview"
   ]
  },
  {
   "cell_type": "markdown",
   "id": "bde0c04b-ba6f-499b-90d1-28b6505f2f0d",
   "metadata": {},
   "source": [
    "In this article, we explore the building blocks of futures RICs, including how the RIC changes after it expires. Then we build a Python object which helps to reconstruct and return futures RICs along with several metadata. The challenge we are trying to address here is that one cannot directly access expired futures through a single API call. To get historical data on futures, one should either use futures continuation RICs or will need to reconstruct RICs following the logic of Refinitiv RIC construction rules. \n",
    "\n",
    "One reason a market participant may want to reconstruct the RIC instead of relying on prices from the continuation RIC, is the assumptions on when rolls take place. Refinitiv rolls on the last trading day, however many market participants may decide to roll with a different assumption in mind depending on the use case. For example, if a market is illiquid at the time of roll, exchange position caps may apply for large positions. In this case a market participant may want to spread the roll over several days or simply at a specific time of a day. So, if market participants can get individual futures, they can determine their own roll logic. Ultimately, prices from individual futures are much closer to reality than simply using a generically rolled series. \n",
    "\n",
    "In the scope of this article, we show how to reconstruct futures RICs and provide an object class with functions to do that. This solution would be most useful to reconstruct expired futures for the purpose of getting historical prices which will be further used in multiple financial use cases, such as asset valuation and strategy back testing. "
   ]
  },
  {
   "cell_type": "markdown",
   "id": "ae5551ce-0a59-46c3-9446-6ff73852ed4b",
   "metadata": {},
   "source": [
    "## Section 1: Futures RIC Components"
   ]
  },
  {
   "cell_type": "markdown",
   "id": "2fbe61ef-76b7-437c-baeb-c76a934445a3",
   "metadata": {},
   "source": [
    "Futures on all asset classes have a specific construction structure, which includes a root, month, and year code. The image below explains how Futures RICs are constructed. "
   ]
  },
  {
   "cell_type": "markdown",
   "id": "6f49277f-2261-449e-b5b2-dcd37893f965",
   "metadata": {},
   "source": [
    "![title](images/ric_structure.png)"
   ]
  },
  {
   "cell_type": "markdown",
   "id": "1c3837b0-41c1-425c-ba2b-39639c2822e4",
   "metadata": {},
   "source": [
    "The image above provides example for bond, index, and commodity futures. The good news is, as we can see, all the futures, no matter the asset class, keep the same structure. If you have ever investigated options RIC reconstruction in one of your use cases, you would come across this challenge, when option RICs depending on the asset class, exchange they are traded etc., although share the same logic, have differing structures and components. If you are still having a challenge for reconstructing expired (and not only) option RICs, functions introduced one of my [articles](https://developers.refinitiv.com/en/article-catalog/article/functions-to-find-option-rics-traded-on-different-exchanges) might be useful.\n",
    "\n",
    "Moving back to the futures RIC components we see that the RICs consist of three main building blocks:  \n",
    "* RIC root code - which is the RIC code for the underlying asset, such as *US* for US T Bond, *FFI* for the FTSE100 and *C* for the corn, \n",
    "* Delivery month Code - as the name indicates, this a letter demonstrating the month code where the futures will be delivered. The comprehensive list of the codes can be found in next image of this article, \n",
    "* Expiry year code - this is the last digit of the year of the futures expiration. \n",
    "\n",
    "Below, we also present the Delivery month and Quarter delivery code lists for futures contracts. "
   ]
  },
  {
   "cell_type": "markdown",
   "id": "df51fb5c-1bfd-42d4-8b01-3f4f8f335783",
   "metadata": {},
   "source": [
    "Below, we present also the Delivery month and Quarter delivery code lists for futures contracts."
   ]
  },
  {
   "cell_type": "markdown",
   "id": "53380138-7ea6-4ece-9545-2751fffe00c9",
   "metadata": {},
   "source": [
    "![title](images/delivery_codes.png)"
   ]
  },
  {
   "cell_type": "markdown",
   "id": "e592ee49-fe88-4202-b360-ea54aed2ce9f",
   "metadata": {},
   "source": [
    "Once a future has expired, focus moves to the next contract. If using a rolling contract RIC such as LCOc1, the contract will roll automatically. To go back and look at historical data one must use a specific RIC structure. The changes to the RIC structure after the futures contract expire are quite straightforward, particularly after the existing RIC we add: \n",
    "* \"^\" carat symbol indicating that the futures are expired which is followed by: \n",
    "* Decade of the expiry of the contract, e.g., 0 for 2000, 1 for 2015, 2 for 2022 etc. \n",
    "\n",
    "The image below represents the RIC structure for Soybeans futures contract that expired in September 2014. "
   ]
  },
  {
   "cell_type": "markdown",
   "id": "04310f1c-f243-4fdd-b20c-50928126417d",
   "metadata": {},
   "source": [
    "![title](images/expired.png)"
   ]
  },
  {
   "cell_type": "markdown",
   "id": "f92aebd6-dc62-43cd-a5d4-708954ec1660",
   "metadata": {},
   "source": [
    "## Section 2: Building a Python object to find expired futures"
   ]
  },
  {
   "cell_type": "markdown",
   "id": "b3cfeb7d-7cc3-49b8-bf30-fcb16e535518",
   "metadata": {},
   "source": [
    "In this section, we will build a Python class with several functions which will help us to reconstruct and return futures RICs along with several metadata based on the underlying asset and contract expiration details. "
   ]
  },
  {
   "cell_type": "markdown",
   "id": "cfb60b57-7757-465d-999b-3843dc78be88",
   "metadata": {},
   "source": [
    "### Install and Import Modules"
   ]
  },
  {
   "cell_type": "markdown",
   "id": "e8630582-9dd2-4077-93e4-a2616f810882",
   "metadata": {},
   "source": [
    "To start, we first install and import the necessary packages. We use the Refinitiv Data platform API to retrieve the data. The code is built using Python 3.9. Other prerequisite packages are installed below:"
   ]
  },
  {
   "cell_type": "code",
   "execution_count": null,
   "id": "d8f546b3-a8a4-4a0a-ac14-76aca170741e",
   "metadata": {},
   "outputs": [],
   "source": [
    "!pip install refinitiv-data"
   ]
  },
  {
   "cell_type": "code",
   "execution_count": 1,
   "id": "cea40e34-2dae-4b65-ad05-16da91b9794c",
   "metadata": {},
   "outputs": [],
   "source": [
    "import refinitiv.data as rd\n",
    "from refinitiv.data.content import search\n",
    "from datetime import datetime\n",
    "import calendar\n",
    "import pandas as pd"
   ]
  },
  {
   "cell_type": "markdown",
   "id": "0f9eb7d3-742e-435f-b29f-503285af1b39",
   "metadata": {},
   "source": [
    "To use the API, we first need to open either desktop or a platform session. In the scope of this article, we will be connected through a desktop session. More about the session types and how to connect the API can be found [here](https://developers.refinitiv.com/en/api-catalog/refinitiv-data-platform/refinitiv-data-library-for-python/quick-start)."
   ]
  },
  {
   "cell_type": "code",
   "execution_count": 2,
   "id": "b83168b9-61a3-429d-98b1-3707a61ad930",
   "metadata": {},
   "outputs": [
    {
     "data": {
      "text/plain": [
       "<refinitiv.data.session.Definition object at 0x13e802070 {name='workspace'}>"
      ]
     },
     "execution_count": 2,
     "metadata": {},
     "output_type": "execute_result"
    }
   ],
   "source": [
    "rd.open_session()"
   ]
  },
  {
   "cell_type": "markdown",
   "id": "01540e5b-b99f-4b2a-835d-626563953600",
   "metadata": {},
   "source": [
    "### Build Futurs RIC constructor object"
   ]
  },
  {
   "cell_type": "markdown",
   "id": "30510df9-e499-499a-a4d6-5dcb8c8fca42",
   "metadata": {},
   "source": [
    "To reconstruct futures RIC, we have built a Python class with a set of functions allowing us to construct the components of future RICs, form a search query and request data using Refinitiv Search API.  \n",
    "\n",
    "\n",
    "The class is using a constant named **MONTH_CODES** which lists month codes and month numbers as key/value pairs of a dictionary. Apart from this, the FuturesRICs class comprises of the following functions: \n",
    "\n",
    "* **get_futures** - this is the main function of the object which accepts *underlying (str)*, *month* (either month_code(str) or month number (int)) and *year (int)* as an input and returns a *dataframe containing futures RIC*. The process involves getting the numerical and code representation of the month, forming the search query, defining the search filtering criteria and making a request using Refinitiv Search API. This function is calling the following functions to achieve that: \n",
    "    * **_get_month_number_and_code** -  this function enables users to provide either numerical or code input for the month argument when calling *get_futures* function from the FuturesRICs object. This function takes *month (str, int)* as an input and returns *numerical(str) and code(str) representation of it* by calling different logic depending on the type of user input for month parameter of get_futures function. \n",
    "    * **_search_futures** - this function implements the actual API call by accepting the *search query (str)* and *filter (str)criteria* as input. It returns a *dataframe with future ric (df) and other related metadata*. \n",
    "    * **_build_filter_criteria** - this function builds the criteria string to be used in the search\n",
    "\n",
    "It should also be noted that to account for the RIC structure change related to the year code introduced in 2024 for set of RICs, we define two types of year_codes and check RIC for both. RIC structure data notification related to change can be found [here](https://myaccount.lseg.com/en/searchpage?_charset_=UTF-8&searchLanguage=en-us&q=RIC+Structure+Change+for+Futures+and+Spreads+Contracts&sp_cs=UTF-8&sp_&myproduct=false&page=1)."
   ]
  },
  {
   "cell_type": "code",
   "execution_count": 34,
   "id": "87f703bf-1e3a-4e7b-8745-75ba887566df",
   "metadata": {},
   "outputs": [],
   "source": [
    "class FuturesRICs:\n",
    "    MONTH_CODES = {'F': '01', 'G': '02', 'H': '03', 'J': '04', 'K': '05', 'M': '06',\n",
    "                   'N': '07', 'Q': '08', 'U': '09', 'V': '10', 'X': '11', 'Z': '12'}\n",
    "    ASSET_CATEGORY = \"Future\"\n",
    "    DATE_FORMAT = \"%Y-%m-%d\"\n",
    "\n",
    "    def get_futures(self, underlying, month, year):\n",
    "        month_num, month_code = self._get_month_number_and_code(month)\n",
    "        month_last_day = calendar.monthrange(year, int(month_num))[1]-1\n",
    "        # we define two possible year_codes to account for RIC structure change\n",
    "        year_codes = [str(year)[-1], str(year)[-2:]]\n",
    "        for year_code in year_codes:\n",
    "            query = f'{underlying}{month_code}{year_code}*'\n",
    "            filter_criteria = self._build_filter_criteria(year, month_num, month_last_day, query)\n",
    "            response = self._search_futures(query, filter_criteria)\n",
    "            if response is not None and not response.empty:\n",
    "                return response\n",
    "        print(f'No futures contract for {underlying} expiring on {month_num} month of {year}')\n",
    "        return None\n",
    "\n",
    "    def _search_futures(self, query, filter_criteria):\n",
    "        response = search.Definition(\n",
    "            view=search.Views.SEARCH_ALL,\n",
    "            query=query,\n",
    "            select=\"DocumentTitle, RIC, ExchangeCode, ExpiryDate, \" +\n",
    "                   \"UnderlyingQuoteRIC, RCSAssetCategoryLeaf, RetireDate\",\n",
    "            filter=filter_criteria\n",
    "        ).get_data()\n",
    "        return response.data.df if response else None\n",
    "\n",
    "    def _get_month_number_and_code(self, month):\n",
    "        if isinstance(month, int) or month.isnumeric():\n",
    "            month_num = f'{int(month):02}'\n",
    "            month_code = next((code for code, num in self.MONTH_CODES.items() if num == month_num), None)\n",
    "            if month_code is None:\n",
    "                raise ValueError(f\"Invalid numeric month: {month}\")\n",
    "        else:\n",
    "            month_code = month.upper()\n",
    "            month_num = self.MONTH_CODES.get(month_code)\n",
    "            if month_num is None:\n",
    "                raise ValueError(f\"Invalid month code: {month_code}\")\n",
    "        return month_num, month_code\n",
    "\n",
    "    def _build_filter_criteria(self, year, month_num, month_last_day, query):\n",
    "        return (\n",
    "            f\"RCSAssetCategoryLeaf eq '{self.ASSET_CATEGORY}' and \"\n",
    "            f\"ExpiryDate ge {year-1}-{month_num}-{month_last_day} and \"\n",
    "            f\"ExpiryDate le {year+1}-{month_num}-{month_last_day} and \"\n",
    "            f\"(RIC xeq '{query[:-1]}' or RIC xeq '{query[:-1]}^{str(year)[-2]}')\"\n",
    "        )\n"
   ]
  },
  {
   "cell_type": "markdown",
   "id": "07d10f4e-c9ae-4318-8234-8bc912d7da66",
   "metadata": {},
   "source": [
    "As one can rightfully notice after observing the object above, the key for the reconstruction process lies within the query and filtering criteria of the Search function. So, it worth explaining how these are constructed: \n",
    "* query - query variable includes the components of the futures RIC, such as the underlying, month code and the last digit of the year of future expiration as described in the first image of this article. This expression is then followed by \"*\" symbol which asks the API to return all inputs starting with the expression. This ensures we get the expired futures as well they have the same structure followed by the \"^\" symbol and decade of the expiration year. \n",
    "* filtering_criteria - As the query is quite generic and there can be many matches, we need to filter down the outputs: \n",
    "    1. we ask for items which have Future under RCSAssetCategoryLeaf property. This will leave only the future contracts \n",
    "    1. although we have only futures with the matched expression, the query output will include futures contracts from multiple expiration periods. Thus, we need to filter out the ones expiring +-1 year of the expiration period. The reason we ask for futures expiring +- the required year is to cover edge cases, such as: \n",
    "        * -1-year - to cover January contracts expired in December previous year, \n",
    "        * +1-year December contract expiring the January or even March (e.g., SON3) of the following year \n",
    "\n",
    "    We use the month from the function input and last day -1 (to accommodate for the leap year) of that month to form the final date ranges for ExpiryDate property .\n",
    "   3. as we have used date range for expiry date, it left out the outputs which ate out of the range, however it may still include a couple of outputs belonging the range for some underlings. The final criteria which will help us to ensure we return a single and correct futures contract RIC we ask for the output having RIC exactly equal to the expected (constructed according to the Refinitiv logic) RIC (active or matured)."
   ]
  },
  {
   "cell_type": "markdown",
   "id": "b91f01e2-006d-486d-9dbf-e9c61dc26c6e",
   "metadata": {},
   "source": [
    "As it comes to the actual outputs of the object, it returns the fields provided under **select** of the **Search query**. In our case, it includes Name of the futures (DocumentTitle), RIC, Exchange Code, Expiry and Retire Dates, UnderlyingQuoteRIC and asset type (RCSAssetCategoryLeaf). You can ask for more fields just adding a select property from available metadate. More on how to check the available metadata, or how to use search are presented in this [article](https://developers.refinitiv.com/en/article-catalog/article/building-search-into-your-application-workflow)."
   ]
  },
  {
   "cell_type": "markdown",
   "id": "7eda72bc-d63b-4230-93be-62d4cc99361c",
   "metadata": {},
   "source": [
    "### Initilize the FuturesRICs object and get futures RICs"
   ]
  },
  {
   "cell_type": "markdown",
   "id": "7a1135ba-fb84-4ddb-a0f0-fc744398a60d",
   "metadata": {},
   "source": [
    "As we created and explained the FuturesRICs object, let us now initialize it and get some results. First step is the initialization of the object which will allow to simply request get_futures function from the object for all our requests."
   ]
  },
  {
   "cell_type": "code",
   "execution_count": 26,
   "id": "f11fd2f6-ccfa-471f-baef-62f71fe5d890",
   "metadata": {},
   "outputs": [],
   "source": [
    "fr = FuturesRICs()"
   ]
  },
  {
   "cell_type": "markdown",
   "id": "ae503e96-ea35-4a7d-971b-e38901c489bb",
   "metadata": {},
   "source": [
    "Below, let's request furures contract for Soybean expired on March 2021."
   ]
  },
  {
   "cell_type": "code",
   "execution_count": 33,
   "id": "9f4275a2-5f3d-4e31-a294-4168110ea3f0",
   "metadata": {},
   "outputs": [
    {
     "data": {
      "text/html": [
       "<div>\n",
       "<style scoped>\n",
       "    .dataframe tbody tr th:only-of-type {\n",
       "        vertical-align: middle;\n",
       "    }\n",
       "\n",
       "    .dataframe tbody tr th {\n",
       "        vertical-align: top;\n",
       "    }\n",
       "\n",
       "    .dataframe thead th {\n",
       "        text-align: right;\n",
       "    }\n",
       "</style>\n",
       "<table border=\"1\" class=\"dataframe\">\n",
       "  <thead>\n",
       "    <tr style=\"text-align: right;\">\n",
       "      <th></th>\n",
       "      <th>DocumentTitle</th>\n",
       "      <th>RIC</th>\n",
       "      <th>ExchangeCode</th>\n",
       "      <th>ExpiryDate</th>\n",
       "      <th>RCSAssetCategoryLeaf</th>\n",
       "      <th>RetireDate</th>\n",
       "    </tr>\n",
       "  </thead>\n",
       "  <tbody>\n",
       "    <tr>\n",
       "      <th>0</th>\n",
       "      <td>CBoT Soybeans Composite Commodity Future Mar 2...</td>\n",
       "      <td>SH1^2</td>\n",
       "      <td>CBT</td>\n",
       "      <td>2021-03-12</td>\n",
       "      <td>Commodity Future</td>\n",
       "      <td>2021-03-16</td>\n",
       "    </tr>\n",
       "  </tbody>\n",
       "</table>\n",
       "</div>"
      ],
      "text/plain": [
       "                                       DocumentTitle    RIC ExchangeCode  \\\n",
       "0  CBoT Soybeans Composite Commodity Future Mar 2...  SH1^2          CBT   \n",
       "\n",
       "  ExpiryDate RCSAssetCategoryLeaf RetireDate  \n",
       "0 2021-03-12     Commodity Future 2021-03-16  "
      ]
     },
     "execution_count": 33,
     "metadata": {},
     "output_type": "execute_result"
    }
   ],
   "source": [
    "fr.get_futures('S', 3, 2021)"
   ]
  },
  {
   "cell_type": "markdown",
   "id": "5b8d1379-7a74-4ca1-af79-eb086da15b48",
   "metadata": {},
   "source": [
    "The result from the function above is a dataframe which contains the fields we have specified in the search select, including Futures contract name, RIC, Exchange Code and Expiration, Retirement dates.\n",
    "\n",
    "It should be noted that different futures contracts have differing contract specifications, including the contract month. So that specifications should be considered when requesting an option contract RICs. To review futures contract specifications for an underlying we can search the continuation RIC in Workspace and click on the Contract Specification Tab as presented in the image below. "
   ]
  },
  {
   "cell_type": "markdown",
   "id": "9cf8e3c6-1061-43bf-8e28-ff0d3b75d9d9",
   "metadata": {},
   "source": [
    "![title](images/soybean.png)"
   ]
  },
  {
   "cell_type": "markdown",
   "id": "26f9d110-8133-4c21-93aa-7db0b8bf5bfc",
   "metadata": {},
   "source": [
    "As we can see from the image, contract months for Soybean futures are Jan, Mar, May, Aug, Sep, and Nov, meaning if we request a soybean contract let us say for February 2021, a valid RIC will not exist. In that case, our object will return a response \"No futures contract for S expiring on 02 month of 2021\". "
   ]
  },
  {
   "cell_type": "code",
   "execution_count": 28,
   "id": "baa8771c-5a76-435c-8649-9541da0a5396",
   "metadata": {},
   "outputs": [
    {
     "name": "stdout",
     "output_type": "stream",
     "text": [
      "No futures contract for S expiring on 02 month of 2021\n"
     ]
    }
   ],
   "source": [
    "fr.get_futures('S', 2, 2021)"
   ]
  },
  {
   "cell_type": "markdown",
   "id": "bfc58ee3-6669-4604-bbf0-144f4245f169",
   "metadata": {},
   "source": [
    "Now let us test our object for different underlings and with valid expiration periods. In order not to print the whole dataframe output we derive the RIC from the output and print it."
   ]
  },
  {
   "cell_type": "code",
   "execution_count": 29,
   "id": "37c8ab38-cf07-4a5d-8d93-1886fac780a4",
   "metadata": {},
   "outputs": [
    {
     "name": "stdout",
     "output_type": "stream",
     "text": [
      "ADH0^0\n",
      "ESH2^0\n",
      "FLGU4^0\n",
      "JYU6^0\n",
      "NGK8^0\n",
      "SF0^1\n",
      "WN2^1\n",
      "VXQ4^1\n",
      "SBV6^1\n",
      "JGBH8^1\n",
      "SON3M0^2\n",
      "FFIU2^2\n",
      "FDXZ3^2\n",
      "ESH3^2\n",
      "LCOG6\n"
     ]
    }
   ],
   "source": [
    "print(fr.get_futures('AD', 3, 2000)['RIC'][0])\n",
    "print(fr.get_futures('ES', 3, 2002)['RIC'][0])\n",
    "print(fr.get_futures('FLG', 9, 2004)['RIC'][0])\n",
    "print(fr.get_futures('JY', 9, 2006)['RIC'][0])\n",
    "print(fr.get_futures('NG', 5, 2008)['RIC'][0])\n",
    "print(fr.get_futures('S', 1, 2010)['RIC'][0])\n",
    "print(fr.get_futures('W', 7, 2012)['RIC'][0])\n",
    "print(fr.get_futures('VX', 8, 2014)['RIC'][0])\n",
    "print(fr.get_futures('SB', 10, 2016)['RIC'][0])\n",
    "print(fr.get_futures('JGB', 3, 2018)['RIC'][0])\n",
    "print(fr.get_futures('SON3', 6, 2020)['RIC'][0])\n",
    "print(fr.get_futures('FFI', 9, 2022)['RIC'][0])\n",
    "print(fr.get_futures('FDX', 12, 2023)['RIC'][0])\n",
    "print(fr.get_futures('ES', 3, 2023)['RIC'][0])\n",
    "print(fr.get_futures('LCO', 2, 2026)['RIC'][0])"
   ]
  },
  {
   "cell_type": "markdown",
   "id": "6165fc9c-2df7-410b-844d-f2c27d7b5e42",
   "metadata": {},
   "source": [
    "Finally, let's take one of the RICs above, e.g the one on S&P 500 (ES) expiring on March 2002, and request prices information using RD Libraries."
   ]
  },
  {
   "cell_type": "code",
   "execution_count": 30,
   "id": "2a4c3ddb-09c3-454d-88b9-895c369d78e0",
   "metadata": {},
   "outputs": [
    {
     "data": {
      "text/html": [
       "<div>\n",
       "<style scoped>\n",
       "    .dataframe tbody tr th:only-of-type {\n",
       "        vertical-align: middle;\n",
       "    }\n",
       "\n",
       "    .dataframe tbody tr th {\n",
       "        vertical-align: top;\n",
       "    }\n",
       "\n",
       "    .dataframe thead th {\n",
       "        text-align: right;\n",
       "    }\n",
       "</style>\n",
       "<table border=\"1\" class=\"dataframe\">\n",
       "  <thead>\n",
       "    <tr style=\"text-align: right;\">\n",
       "      <th>ESH2^0</th>\n",
       "      <th>TRDPRC_1</th>\n",
       "      <th>OPEN_PRC</th>\n",
       "      <th>HIGH_1</th>\n",
       "      <th>LOW_1</th>\n",
       "    </tr>\n",
       "    <tr>\n",
       "      <th>Date</th>\n",
       "      <th></th>\n",
       "      <th></th>\n",
       "      <th></th>\n",
       "      <th></th>\n",
       "    </tr>\n",
       "  </thead>\n",
       "  <tbody>\n",
       "    <tr>\n",
       "      <th>2001-10-01</th>\n",
       "      <td>&lt;NA&gt;</td>\n",
       "      <td>&lt;NA&gt;</td>\n",
       "      <td>1041.25</td>\n",
       "      <td>1035.0</td>\n",
       "    </tr>\n",
       "    <tr>\n",
       "      <th>2001-10-02</th>\n",
       "      <td>&lt;NA&gt;</td>\n",
       "      <td>&lt;NA&gt;</td>\n",
       "      <td>1057.5</td>\n",
       "      <td>1044.0</td>\n",
       "    </tr>\n",
       "    <tr>\n",
       "      <th>2001-10-03</th>\n",
       "      <td>1054.0</td>\n",
       "      <td>1054.0</td>\n",
       "      <td>1078.25</td>\n",
       "      <td>1052.0</td>\n",
       "    </tr>\n",
       "    <tr>\n",
       "      <th>2001-10-04</th>\n",
       "      <td>1083.0</td>\n",
       "      <td>1079.0</td>\n",
       "      <td>1086.0</td>\n",
       "      <td>1073.5</td>\n",
       "    </tr>\n",
       "    <tr>\n",
       "      <th>2001-10-05</th>\n",
       "      <td>1065.75</td>\n",
       "      <td>1065.75</td>\n",
       "      <td>1077.0</td>\n",
       "      <td>1045.75</td>\n",
       "    </tr>\n",
       "    <tr>\n",
       "      <th>...</th>\n",
       "      <td>...</td>\n",
       "      <td>...</td>\n",
       "      <td>...</td>\n",
       "      <td>...</td>\n",
       "    </tr>\n",
       "    <tr>\n",
       "      <th>2002-03-11</th>\n",
       "      <td>1166.5</td>\n",
       "      <td>1164.0</td>\n",
       "      <td>1173.5</td>\n",
       "      <td>1158.75</td>\n",
       "    </tr>\n",
       "    <tr>\n",
       "      <th>2002-03-12</th>\n",
       "      <td>1167.25</td>\n",
       "      <td>1165.25</td>\n",
       "      <td>1167.25</td>\n",
       "      <td>1153.75</td>\n",
       "    </tr>\n",
       "    <tr>\n",
       "      <th>2002-03-13</th>\n",
       "      <td>1154.5</td>\n",
       "      <td>1166.0</td>\n",
       "      <td>1170.75</td>\n",
       "      <td>1150.5</td>\n",
       "    </tr>\n",
       "    <tr>\n",
       "      <th>2002-03-14</th>\n",
       "      <td>1155.75</td>\n",
       "      <td>1151.5</td>\n",
       "      <td>1158.25</td>\n",
       "      <td>1147.25</td>\n",
       "    </tr>\n",
       "    <tr>\n",
       "      <th>2002-03-15</th>\n",
       "      <td>1159.0</td>\n",
       "      <td>1154.25</td>\n",
       "      <td>1159.0</td>\n",
       "      <td>1152.5</td>\n",
       "    </tr>\n",
       "  </tbody>\n",
       "</table>\n",
       "<p>115 rows × 4 columns</p>\n",
       "</div>"
      ],
      "text/plain": [
       "ESH2^0      TRDPRC_1  OPEN_PRC   HIGH_1    LOW_1\n",
       "Date                                            \n",
       "2001-10-01      <NA>      <NA>  1041.25   1035.0\n",
       "2001-10-02      <NA>      <NA>   1057.5   1044.0\n",
       "2001-10-03    1054.0    1054.0  1078.25   1052.0\n",
       "2001-10-04    1083.0    1079.0   1086.0   1073.5\n",
       "2001-10-05   1065.75   1065.75   1077.0  1045.75\n",
       "...              ...       ...      ...      ...\n",
       "2002-03-11    1166.5    1164.0   1173.5  1158.75\n",
       "2002-03-12   1167.25   1165.25  1167.25  1153.75\n",
       "2002-03-13    1154.5    1166.0  1170.75   1150.5\n",
       "2002-03-14   1155.75    1151.5  1158.25  1147.25\n",
       "2002-03-15    1159.0   1154.25   1159.0   1152.5\n",
       "\n",
       "[115 rows x 4 columns]"
      ]
     },
     "execution_count": 30,
     "metadata": {},
     "output_type": "execute_result"
    }
   ],
   "source": [
    "rd.get_history(\n",
    "    universe=['ESH2^0'],\n",
    "    fields = ['TRDPRC_1', 'OPEN_PRC', 'HIGH_1', 'LOW_1'],\n",
    "    interval=\"1D\",\n",
    "    start=\"2001-10-01\",\n",
    "    end=\"2002-03-30\",\n",
    ")"
   ]
  },
  {
   "cell_type": "markdown",
   "id": "cbde5538-aa77-4a0b-ad29-28e5fc708e10",
   "metadata": {},
   "source": [
    "## Conclusion"
   ]
  },
  {
   "cell_type": "markdown",
   "id": "0066563b-5e0f-4daf-9ce6-cd2de1caaa47",
   "metadata": {},
   "source": [
    "In this article, we presented the components of RIC futures contracts, including the ones expired and introduced a Python object to reconstruct futures RICs on different assets no matter the expiration fact. The reconstructed RICs then can be used to derive historical prices. Although, market participants could request pricing information using continuation RICs, they may not always agree on the futures rolling assumptions made by Refinitiv. To be able to utilize custom roll assumptions and get more realistic historical prices they need to get the individual contracts. As historical contracts are not directly accessible via a single API call, RICs for these contracts need to be reconstructed following the logic provided by Refinitiv. For this purpose, we have built a Python object consisting of several functions which simply accept the underlying, expiration month and year as an input and return a dataframe with contract RIC and several other metadata, including contract name, exchange, and expiration details."
   ]
  }
 ],
 "metadata": {
  "kernelspec": {
   "display_name": "Python 3 (ipykernel)",
   "language": "python",
   "name": "python3"
  },
  "language_info": {
   "codemirror_mode": {
    "name": "ipython",
    "version": 3
   },
   "file_extension": ".py",
   "mimetype": "text/x-python",
   "name": "python",
   "nbconvert_exporter": "python",
   "pygments_lexer": "ipython3",
   "version": "3.9.6"
  }
 },
 "nbformat": 4,
 "nbformat_minor": 5
}
